{
  "nbformat": 4,
  "nbformat_minor": 0,
  "metadata": {
    "colab": {
      "name": "Vine_Review_Analysis.ipynb",
      "provenance": [],
      "collapsed_sections": []
    },
    "kernelspec": {
      "name": "python3",
      "display_name": "Python 3"
    },
    "language_info": {
      "name": "python"
    }
  },
  "cells": [
    {
      "cell_type": "code",
      "metadata": {
        "colab": {
          "base_uri": "https://localhost:8080/"
        },
        "id": "-CETMdjiMYM7",
        "outputId": "7407703e-7416-4a83-a796-ae9d45ab20f1"
      },
      "source": [
        "import os\n",
        "# Find the latest version of spark 3.0 from http://www.apache.org/dist/spark/ and enter as the spark version\n",
        "# For example:\n",
        "# spark_version = 'spark-3.0.3'\n",
        "spark_version = 'spark-3.0.3'\n",
        "os.environ['SPARK_VERSION']=spark_version\n",
        "\n",
        "# Install Spark and Java\n",
        "!apt-get update\n",
        "!apt-get install openjdk-11-jdk-headless -qq > /dev/null\n",
        "!wget -q http://www.apache.org/dist/spark/$SPARK_VERSION/$SPARK_VERSION-bin-hadoop2.7.tgz\n",
        "!tar xf $SPARK_VERSION-bin-hadoop2.7.tgz\n",
        "!pip install -q findspark\n",
        "\n",
        "# Set Environment Variables\n",
        "import os\n",
        "os.environ[\"JAVA_HOME\"] = \"/usr/lib/jvm/java-11-openjdk-amd64\"\n",
        "os.environ[\"SPARK_HOME\"] = f\"/content/{spark_version}-bin-hadoop2.7\"\n",
        "\n",
        "# Start a SparkSession\n",
        "import findspark\n",
        "findspark.init()"
      ],
      "execution_count": 1,
      "outputs": [
        {
          "output_type": "stream",
          "name": "stdout",
          "text": [
            "\r0% [Working]\r            \rGet:1 http://security.ubuntu.com/ubuntu bionic-security InRelease [88.7 kB]\n",
            "\r0% [Connecting to archive.ubuntu.com (91.189.88.142)] [1 InRelease 14.2 kB/88.7\r0% [Waiting for headers] [Waiting for headers] [Connecting to ppa.launchpad.net\r                                                                               \rGet:2 https://cloud.r-project.org/bin/linux/ubuntu bionic-cran40/ InRelease [3,626 B]\n",
            "\r                                                                               \rIgn:3 https://developer.download.nvidia.com/compute/cuda/repos/ubuntu1804/x86_64  InRelease\n",
            "\r0% [Waiting for headers] [Connecting to ppa.launchpad.net] [Waiting for headers\r0% [1 InRelease gpgv 88.7 kB] [Waiting for headers] [Connecting to ppa.launchpa\r                                                                               \rHit:4 http://archive.ubuntu.com/ubuntu bionic InRelease\n",
            "\r0% [1 InRelease gpgv 88.7 kB] [Connecting to ppa.launchpad.net (91.189.95.85)] \r                                                                               \rIgn:5 https://developer.download.nvidia.com/compute/machine-learning/repos/ubuntu1804/x86_64  InRelease\n",
            "Hit:6 https://developer.download.nvidia.com/compute/cuda/repos/ubuntu1804/x86_64  Release\n",
            "Hit:7 https://developer.download.nvidia.com/compute/machine-learning/repos/ubuntu1804/x86_64  Release\n",
            "Get:8 http://archive.ubuntu.com/ubuntu bionic-updates InRelease [88.7 kB]\n",
            "Get:9 http://ppa.launchpad.net/c2d4u.team/c2d4u4.0+/ubuntu bionic InRelease [15.9 kB]\n",
            "Get:10 http://security.ubuntu.com/ubuntu bionic-security/universe amd64 Packages [1,431 kB]\n",
            "Get:11 http://archive.ubuntu.com/ubuntu bionic-backports InRelease [74.6 kB]\n",
            "Hit:12 http://ppa.launchpad.net/cran/libgit2/ubuntu bionic InRelease\n",
            "Get:13 http://security.ubuntu.com/ubuntu bionic-security/main amd64 Packages [2,365 kB]\n",
            "Get:14 http://ppa.launchpad.net/deadsnakes/ppa/ubuntu bionic InRelease [15.9 kB]\n",
            "Hit:15 http://ppa.launchpad.net/graphics-drivers/ppa/ubuntu bionic InRelease\n",
            "Get:18 http://ppa.launchpad.net/c2d4u.team/c2d4u4.0+/ubuntu bionic/main Sources [1,802 kB]\n",
            "Get:19 http://archive.ubuntu.com/ubuntu bionic-updates/universe amd64 Packages [2,210 kB]\n",
            "Get:20 http://ppa.launchpad.net/c2d4u.team/c2d4u4.0+/ubuntu bionic/main amd64 Packages [922 kB]\n",
            "Get:21 http://archive.ubuntu.com/ubuntu bionic-updates/main amd64 Packages [2,801 kB]\n",
            "Get:22 http://ppa.launchpad.net/deadsnakes/ppa/ubuntu bionic/main amd64 Packages [40.8 kB]\n",
            "Fetched 11.9 MB in 4s (2,746 kB/s)\n",
            "Reading package lists... Done\n"
          ]
        }
      ]
    },
    {
      "cell_type": "code",
      "metadata": {
        "colab": {
          "base_uri": "https://localhost:8080/"
        },
        "id": "ZusLQ0biMpdL",
        "outputId": "74cd0e1e-54be-4a29-d205-0afab9fd385f"
      },
      "source": [
        "# Download the Postgres driver that will allow Spark to interact with Postgres.\n",
        "!wget https://jdbc.postgresql.org/download/postgresql-42.2.16.jar"
      ],
      "execution_count": 2,
      "outputs": [
        {
          "output_type": "stream",
          "name": "stdout",
          "text": [
            "--2021-10-09 04:42:13--  https://jdbc.postgresql.org/download/postgresql-42.2.16.jar\n",
            "Resolving jdbc.postgresql.org (jdbc.postgresql.org)... 72.32.157.228, 2001:4800:3e1:1::228\n",
            "Connecting to jdbc.postgresql.org (jdbc.postgresql.org)|72.32.157.228|:443... connected.\n",
            "HTTP request sent, awaiting response... 200 OK\n",
            "Length: 1002883 (979K) [application/java-archive]\n",
            "Saving to: ‘postgresql-42.2.16.jar’\n",
            "\n",
            "postgresql-42.2.16. 100%[===================>] 979.38K  --.-KB/s    in 0.1s    \n",
            "\n",
            "2021-10-09 04:42:14 (6.60 MB/s) - ‘postgresql-42.2.16.jar’ saved [1002883/1002883]\n",
            "\n"
          ]
        }
      ]
    },
    {
      "cell_type": "code",
      "metadata": {
        "id": "MMqDAjVS0KN9"
      },
      "source": [
        "from pyspark.sql import SparkSession\n",
        "spark = SparkSession.builder.appName(\"Vine_Analysis\").config(\"spark.driver.extraClassPath\",\"/content/postgresql-42.2.16.jar\").getOrCreate()"
      ],
      "execution_count": 3,
      "outputs": []
    },
    {
      "cell_type": "code",
      "metadata": {
        "colab": {
          "base_uri": "https://localhost:8080/"
        },
        "id": "MD4BsmrdMqIX",
        "outputId": "e92a922c-02b8-413f-c9b8-53697c675e6b"
      },
      "source": [
        "# Store environmental variable\n",
        "from getpass import getpass\n",
        "password = getpass('Enter database password')\n",
        "\n",
        "# Configure settings for RDS\n",
        "jdbc_url=\"jdbc:postgresql://amazon-vine.cgecvncx2stq.us-east-2.rds.amazonaws.com:5432/vine_analysis\"\n",
        "config = {\"user\":\"postgres\", \n",
        "          \"password\": password, \n",
        "          \"driver\":\"org.postgresql.Driver\"}"
      ],
      "execution_count": 4,
      "outputs": [
        {
          "name": "stdout",
          "output_type": "stream",
          "text": [
            "Enter database password··········\n"
          ]
        }
      ]
    },
    {
      "cell_type": "code",
      "metadata": {
        "id": "GvUCqRj6M9rH"
      },
      "source": [
        "from pyspark.sql import DataFrameReader\n",
        "# Read postgres table into dataframe\n",
        "vine_df = spark.read.jdbc(url=jdbc_url, table='vine_table', properties=config)"
      ],
      "execution_count": 5,
      "outputs": []
    },
    {
      "cell_type": "code",
      "metadata": {
        "id": "pH-ZnNSMOYPV"
      },
      "source": [
        "# Filter only reviews with more than 20 votes\n",
        "high_vote_vine_df = vine_df.filter('total_votes>=20')"
      ],
      "execution_count": 6,
      "outputs": []
    },
    {
      "cell_type": "code",
      "metadata": {
        "colab": {
          "base_uri": "https://localhost:8080/"
        },
        "id": "3-lF_gAIRKf7",
        "outputId": "dc85782a-cbed-4f67-e18e-3847de246de5"
      },
      "source": [
        "# Filter only reviews with high ratio of helpful votes to total votes\n",
        "helpful_vote_vine_df = high_vote_vine_df.withColumn('percentage', high_vote_vine_df['helpful_votes'] / high_vote_vine_df['total_votes'] ).filter('percentage>.5').drop('percentage')\n",
        "helpful_vote_vine_df.show()"
      ],
      "execution_count": 7,
      "outputs": [
        {
          "output_type": "stream",
          "name": "stdout",
          "text": [
            "+--------------+-----------+-------------+-----------+----+-----------------+\n",
            "|     review_id|star_rating|helpful_votes|total_votes|vine|verified_purchase|\n",
            "+--------------+-----------+-------------+-----------+----+-----------------+\n",
            "|R1EADU8IU77GOT|          2|           18|         25|   N|                Y|\n",
            "|R2UZIW1QI38IUH|          3|           20|         27|   N|                N|\n",
            "|R15X51D8MMOYUU|          5|           42|         46|   N|                Y|\n",
            "|R2NJ7SNM4X63TK|          5|           57|         63|   N|                Y|\n",
            "|R1IXFPCQG71W0Q|          3|           18|         20|   N|                Y|\n",
            "|R22E9TZRA29WZE|          5|           24|         26|   N|                N|\n",
            "|R3LX8T8FW3GFJJ|          5|           17|         24|   N|                Y|\n",
            "| R9REJKVBANRN6|          2|           14|         20|   N|                N|\n",
            "|R12T2CW1VAKJLP|          1|           16|         23|   N|                Y|\n",
            "| RIUKST053BR2K|          5|           25|         26|   Y|                N|\n",
            "|R3416Q1IJEW3DZ|          2|           15|         22|   N|                Y|\n",
            "|R377K9AR46MXBD|          3|          103|        119|   N|                Y|\n",
            "|R1CMF9R7PXRD1F|          5|           20|         26|   N|                Y|\n",
            "|R19358F3L6KAQ2|          1|           50|         51|   N|                N|\n",
            "|R3MSPGSVM0KX4Y|          3|           12|         23|   N|                Y|\n",
            "|R10K9BALRSU29R|          1|           15|         20|   N|                Y|\n",
            "| RMLQ0XGS6AYWK|          1|           26|         49|   N|                Y|\n",
            "|R31CC7XMIYQF3N|          5|           55|         73|   N|                N|\n",
            "|R2YF8J8J9D856L|          2|          131|        165|   N|                N|\n",
            "|R1X6R3E2O39E1J|          3|           58|         70|   N|                N|\n",
            "+--------------+-----------+-------------+-----------+----+-----------------+\n",
            "only showing top 20 rows\n",
            "\n"
          ]
        }
      ]
    },
    {
      "cell_type": "code",
      "metadata": {
        "colab": {
          "base_uri": "https://localhost:8080/"
        },
        "id": "wrLKILgpTqJ7",
        "outputId": "bd1717ab-025d-4d72-df46-387bca8c73e4"
      },
      "source": [
        "# Filter for paid vine program reviews\n",
        "paid_vine_df = helpful_vote_vine_df.filter('vine==\"Y\"')\n",
        "paid_vine_df.show()"
      ],
      "execution_count": 8,
      "outputs": [
        {
          "output_type": "stream",
          "name": "stdout",
          "text": [
            "+--------------+-----------+-------------+-----------+----+-----------------+\n",
            "|     review_id|star_rating|helpful_votes|total_votes|vine|verified_purchase|\n",
            "+--------------+-----------+-------------+-----------+----+-----------------+\n",
            "| RIUKST053BR2K|          5|           25|         26|   Y|                N|\n",
            "|R1IN4WPVLZB86G|          5|           34|         37|   Y|                N|\n",
            "|R1W1YY3QZDVKK3|          2|           26|         36|   Y|                N|\n",
            "|  RV8FVXVWTEAX|          4|           97|        107|   Y|                N|\n",
            "|R3CMWDEYCJM2O9|          1|           24|         31|   Y|                N|\n",
            "|R2INH817LTJFGI|          5|           18|         20|   Y|                N|\n",
            "|R10P2XVXA9DYTO|          5|           21|         25|   Y|                N|\n",
            "| RW25NTS59UG55|          4|           39|         43|   Y|                N|\n",
            "| RKKMH184GEHKD|          5|           19|         23|   Y|                N|\n",
            "| RNRUIQVK27RDZ|          3|           17|         25|   Y|                N|\n",
            "| REQZP78LTC0EY|          4|           21|         23|   Y|                N|\n",
            "|R2UB214GH2M6LV|          5|          321|        340|   Y|                N|\n",
            "|R2GYO7WKCP4TOM|          3|           18|         25|   Y|                N|\n",
            "|R324LVYMIC7XRG|          5|           26|         35|   Y|                N|\n",
            "|R2XT37DDSZ8ROK|          3|           28|         53|   Y|                N|\n",
            "|R1A7M6ADCYEE81|          5|           71|         86|   Y|                N|\n",
            "|R2TYARK2PB70B4|          3|           31|         40|   Y|                N|\n",
            "|R28UP3IBHIAL2D|          5|           58|         62|   Y|                N|\n",
            "|R1PU7JY8XL5M1N|          5|           19|         24|   Y|                N|\n",
            "|R1QEQVDF9S7BDX|          2|           32|         35|   Y|                N|\n",
            "+--------------+-----------+-------------+-----------+----+-----------------+\n",
            "only showing top 20 rows\n",
            "\n"
          ]
        }
      ]
    },
    {
      "cell_type": "code",
      "metadata": {
        "colab": {
          "base_uri": "https://localhost:8080/"
        },
        "id": "DABTcFxZXecT",
        "outputId": "45a0f38b-32fe-4bae-a699-1e4cadbe7d49"
      },
      "source": [
        "# Filter for unpaid vine program reviews\n",
        "unpaid_vine_df = helpful_vote_vine_df.filter('vine==\"N\"')\n",
        "unpaid_vine_df.show()"
      ],
      "execution_count": 9,
      "outputs": [
        {
          "output_type": "stream",
          "name": "stdout",
          "text": [
            "+--------------+-----------+-------------+-----------+----+-----------------+\n",
            "|     review_id|star_rating|helpful_votes|total_votes|vine|verified_purchase|\n",
            "+--------------+-----------+-------------+-----------+----+-----------------+\n",
            "|R1EADU8IU77GOT|          2|           18|         25|   N|                Y|\n",
            "|R2UZIW1QI38IUH|          3|           20|         27|   N|                N|\n",
            "|R15X51D8MMOYUU|          5|           42|         46|   N|                Y|\n",
            "|R2NJ7SNM4X63TK|          5|           57|         63|   N|                Y|\n",
            "|R1IXFPCQG71W0Q|          3|           18|         20|   N|                Y|\n",
            "|R22E9TZRA29WZE|          5|           24|         26|   N|                N|\n",
            "|R3LX8T8FW3GFJJ|          5|           17|         24|   N|                Y|\n",
            "| R9REJKVBANRN6|          2|           14|         20|   N|                N|\n",
            "|R12T2CW1VAKJLP|          1|           16|         23|   N|                Y|\n",
            "|R3416Q1IJEW3DZ|          2|           15|         22|   N|                Y|\n",
            "|R377K9AR46MXBD|          3|          103|        119|   N|                Y|\n",
            "|R19358F3L6KAQ2|          1|           50|         51|   N|                N|\n",
            "|R3MSPGSVM0KX4Y|          3|           12|         23|   N|                Y|\n",
            "|R1CMF9R7PXRD1F|          5|           20|         26|   N|                Y|\n",
            "| R6THYSVKM70FK|          4|           32|         34|   N|                Y|\n",
            "|R319A8P5PXX0WC|          5|           28|         31|   N|                Y|\n",
            "|R21B9HL9ORV134|          1|           21|         25|   N|                Y|\n",
            "|R10K9BALRSU29R|          1|           15|         20|   N|                Y|\n",
            "| RMLQ0XGS6AYWK|          1|           26|         49|   N|                Y|\n",
            "| RMAHYSSCQCRG6|          5|           24|         26|   N|                Y|\n",
            "+--------------+-----------+-------------+-----------+----+-----------------+\n",
            "only showing top 20 rows\n",
            "\n"
          ]
        }
      ]
    },
    {
      "cell_type": "code",
      "metadata": {
        "id": "FqaUS6NLXjEq"
      },
      "source": [
        "# Calculate Total Reviews\n",
        "total_paid_reviews = paid_vine_df.count()\n",
        "total_unpaid_reviews = unpaid_vine_df.count()"
      ],
      "execution_count": 11,
      "outputs": []
    },
    {
      "cell_type": "code",
      "metadata": {
        "id": "mw9jfBZDXC45"
      },
      "source": [
        "# Calculate total 5 star reviews\n",
        "total_paid_5_star = paid_vine_df.filter('star_rating == 5').count()\n",
        "total_unpaid_5_star = unpaid_vine_df.filter('star_rating == 5').count()"
      ],
      "execution_count": 14,
      "outputs": []
    },
    {
      "cell_type": "code",
      "metadata": {
        "id": "gGQ8pXyKX5hI"
      },
      "source": [
        "# Calculate Percentage of 5 star Reviews to Total\n",
        "total_5_star_percent_paid = (total_paid_5_star / total_paid_reviews * 100)\n",
        "total_5_star_percent_unpaid = (total_unpaid_5_star / total_unpaid_reviews * 100)"
      ],
      "execution_count": 21,
      "outputs": []
    },
    {
      "cell_type": "code",
      "metadata": {
        "colab": {
          "base_uri": "https://localhost:8080/"
        },
        "id": "V1xiPJNbYS0Z",
        "outputId": "f344df0d-6db5-4728-832c-60af2a72b9bd"
      },
      "source": [
        "results_df = spark.createDataFrame([\n",
        "                                    ('Vine', total_paid_reviews, total_paid_5_star, f'{round(total_5_star_percent_paid, 2)}%') ,\n",
        "                                    ('Non-Vine', total_unpaid_reviews, total_unpaid_5_star, f'{round(total_5_star_percent_unpaid, 2)}%')\n",
        "], ['Reviewer Type', 'Total Reviews', 'Total 5 Star Reviews', 'Total Percentage 5 Star vs Total'])\n",
        "results_df.show()"
      ],
      "execution_count": 27,
      "outputs": [
        {
          "output_type": "stream",
          "name": "stdout",
          "text": [
            "+-------------+-------------+--------------------+--------------------------------+\n",
            "|Reviewer Type|Total Reviews|Total 5 Star Reviews|Total Percentage 5 Star vs Total|\n",
            "+-------------+-------------+--------------------+--------------------------------+\n",
            "|         Vine|           94|                  48|                          51.06%|\n",
            "|     Non-Vine|        39915|               15556|                          38.97%|\n",
            "+-------------+-------------+--------------------+--------------------------------+\n",
            "\n"
          ]
        }
      ]
    },
    {
      "cell_type": "code",
      "metadata": {
        "id": "Izhk8DhIaHy-"
      },
      "source": [
        ""
      ],
      "execution_count": null,
      "outputs": []
    }
  ]
}